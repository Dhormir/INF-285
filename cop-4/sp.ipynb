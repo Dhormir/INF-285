{
 "cells": [
  {
   "cell_type": "markdown",
   "metadata": {},
   "source": [
    "<img src=\"http://sct.inf.utfsm.cl/wp-content/uploads/2020/04/logo_di.png\" style=\"width:60%\">\n",
    "\n",
    "<center>\n",
    "    <h1>ILI285/INF285 Computación Científica </h1>\n",
    "    <h1>COP-4</h1>\n",
    "    <h1>SP: Splines</h1>\n",
    "</center>"
   ]
  },
  {
   "cell_type": "markdown",
   "metadata": {},
   "source": [
    "# Pregunta"
   ]
  },
  {
   "cell_type": "markdown",
   "metadata": {},
   "source": [
    "Consideremos el problema de interpolar una colección de puntos $(x_i,y_i)$ con $i \\in 1:N$ utilizando una spline cúbica. Para ello, se define la spline de la siguiente forma:\n",
    "\n",
    "\\begin{equation*}\n",
    "S(x) =\n",
    "\\begin{cases}\n",
    "S_1(x), & x \\in [x_1,x_2], \\\\\n",
    "S_2(x), & x \\in [x_2,x_3], \\\\\n",
    "\\vdots \\\\\n",
    "S_{N-1}(x), & x \\in [x_{i-1},x_i],\n",
    "\\end{cases}\n",
    "\\end{equation*}\n",
    "donde cada $S_i(x),\\,i=1:N-1$, tiene la siguiente estructura:\n",
    "\n",
    "\\begin{equation*}\n",
    "S_i(x) = y_i + b_i(x - x_i) + c_i(x - x_i)^2 + d_i(x - x_i)^3. \n",
    "\\end{equation*}\n",
    "\n",
    "Sabemos que para encontrar una única solución para los $3N-3$ coeficientes de $S(x)$ debemos resolver un sistema de ecuaciones lineales que posea $3N-3$ ecuaciones. Estas ecuaciones se obtienen a partir de las siguientes propiedades:\n",
    "\n",
    "Propiedad 1 - Continuidad:\n",
    "\\begin{equation*}\n",
    "S_i(x_i) = y_i \\text{ y } S_i(x_{i+1}) = y_{i+1}\\,\\,\\,\\text{donde } i = 1:N-1. \n",
    "\\end{equation*}\n",
    "\n",
    "Propiedad 2 - Diferenciabilidad:\n",
    "\\begin{equation*}\n",
    "S'_{i-1}(x_i) = S'_{i}(x_i)\\,\\,\\,\\text{donde } i = 2:N-1. \n",
    "\\end{equation*}\n",
    "\n",
    "Propiedad 3 - Continuidad en la segunda derivada:\n",
    "\\begin{equation*}\n",
    "S''_{i-1}(x_i) = S''_{i}(x_i)\\,\\,\\,\\text{donde } i = 2:N-1.\n",
    "\\end{equation*}\n",
    "\n",
    "Estas 3 propiedades nos entregan $3N-5$ ecuaciones por lo que al considerar condiciones de borde se obtienen las dos ecuaciones lineales adicionales faltantes.  Sin embargo, si además queremos considerar continuidad en la 3ra derivada, es decir $S'''_{i-1}(x_i) = S'''_{i}(x_i)$ para $i = 2:N-1$ obtendríamos un sistema de ecuaciones lineales sobre-determinado, es decir, más ecuaciones que incógnitas. En este caso, considerando que es muy importante la Propiedad 1, continuidad, podemos definir el siguiente problema de minimización con restricciones:\n",
    "\\begin{equation*}\\min \\sum_{i=1}^{n-1} \\left( S'_{i-1}(x_i) - S'_{i}(x_i) \\right)^{2} + \\left( S''_{i-1}(x_i) - S''_{i}(x_i) \\right)^2+\\left( S'''_{i-1}(x_i) - S'''_{i}(x_i) \\right)^2,\\end{equation*}\n",
    "sujeto a $S_i(x_{i+1}) = y_{i+1}$ para $i = 2:N-1$.\n",
    "\n",
    "Una alternativa conveniente pero no exacta a resolver un problema de minimización con restricciones, es resolver un problema de mínimos cuadrados dándole un peso distinto a las distintas ecuaciones.\n",
    "Esto significa resolver la siguiente minimización:\n",
    "\\begin{equation*}\n",
    "\\min\n",
    "\\sum_{i=1}^{n-1} w_1^2\\,\\left(S_i(x_{i+1}) - y_{i+1}\\right)^2\n",
    "\\sum_{i=2}^{n-1}\n",
    "w_2^2\\,\\left( S'_{i-1}(x_i) - S'_{i}(x_i) \\right)^{2} + \n",
    "w_3^2\\,\\left( S''_{i-1}(x_i) - S''_{i}(x_i) \\right)^2\n",
    "+\n",
    "w_4^2\\,\\left( S'''_{i-1}(x_i) - S'''_{i}(x_i) \\right)^2\n",
    ",\n",
    "\\end{equation*}\n",
    "\n",
    "\n",
    "el cual se traduce en el siguiente sistema de ecuaciones lineales sobre-determinado:\n",
    "\n",
    "\\begin{equation*}\n",
    "W\\,A\\,\\mathbf{c} = W\\,\\mathbf{b},\n",
    "\\end{equation*}\n",
    "\n",
    "\n",
    "donde $W=\\text{diag}(w_1,w_1,\\dots,w_1,w_2\\,\\dots,w_4)\\in \\mathbb{R}^{(4\\,N-7\\,\\times\\,4\\,N-7)}$ es la matriz diagonal y cuadrada con los pesos asociados a cada ecuación, $A \\in \\mathbb{R}^{(4\\,N-7\\,\\times\\,3\\,N-3)}$ es la matriz tradicional de splines cúbicas pero agregandole en las últimas filas las ecuaciones asociadas a la continuidad en la tercera derivada, $\\mathbf{c} \\in \\mathbb{R}^{3\\,N-3}$ y $b \\in \\mathbb{R}^{4\\,N-7}$. Recuerde que la matriz $A$ es rectangular porque aumenta la cantidad de filas y la cantidad de columnas permanece invariante.\n",
    "Con este procedimiento hemos adaptado el problema anterior de minimización con restricciones a una de mínimos cuadrados sin restricciones y podemos utilizar lo que ya conocemos!, lo único que necesitamos hacer es definir un mayor peso a las ecuaciones que nos interesa ajustar de mejor manera. Notar que en este caso nuestra matriz a resolver es el producto $W\\,A$ y nuestro lado derecho es $W\\,\\mathbf{b}$, es decir, debemos considerarlos de forma conjunta en ambos casos.\n",
    "\n",
    "El problema que usted deberá resolver será el de encontrar una casi-spline cubica (ya que no será exactamente una spline cúbica, solo será una función definida por intervalos) que minimice el error cuadrático ponderado al pasar por los puntos almacenado en Dataset{1,2,3,4,5,6}.npy ([link](https://github.com/sct-utfsm/INF-285/tree/master/cop-4/data/sp))  que provienen de la función $f(x) = \\{\\cos(x), \\sin(x)\\}$ y considere adicionalmente la continuidad de la tercera derivada.\n",
    "Para encontrar los coeficientes de $S(x)$ se deberá utilizar mínimos cuadrados utilizando {$QR$, Ecuaciones Normales}. \n",
    "Para esto se deberá construir la matriz $A$ con las $4\\,N-7$ ecuaciones que provienen de las propiedades descritas anteriormente.\n",
    "Los pesos a utilizar se definen de la siguiente forma:\n",
    "\n",
    "* $w_1=1$,\n",
    "* $w_2=0.1$,\n",
    "* $w_3={G}$,\n",
    "* $w_4={G}$.\n",
    "\n",
    "**Preguntas**\n",
    "\n",
    "Encuentre la norma de Frobenius de $A$, el valor del coeficiente $b_1$ y la norma infinita del error de interpolación ($\\max_{i} |f(x_i) - S(x_i)|$) utilizando $1000$ puntos equiespaciados en el intervalo $[0, 2\\pi]$ de evaluación. (**Para cada una de sus respuestas entregue solo los 5 decimales después de la coma, es decir si su resultado es 123.567864 su respuesta debe ser 56786**)\n",
    "\n",
    "Consideración\n",
    "\n",
    "El archivo Dataset{1, 2, 3, 4, 5, 6}.npy contiene dos arreglos. La primera columna contiene los puntos $x$ y la segunda columna contiene los puntos $y$.\n",
    "\n",
    "* **[40/3 puntos]** Norma de Frobenius\n",
    "* **[40/3 puntos]** Coeficiente $b_1$\n",
    "* **[40/3 puntos]** Error de interpolación"
   ]
  },
  {
   "cell_type": "code",
   "execution_count": 1,
   "metadata": {},
   "outputs": [],
   "source": [
    "import numpy as np\n",
    "import matplotlib.pyplot as plt\n",
    "%matplotlib inline\n",
    "import scipy as sp\n",
    "from scipy import interpolate\n",
    "import ipywidgets as widgets\n",
    "import matplotlib as mpl\n",
    "mpl.rcParams['font.size'] = 14\n",
    "mpl.rcParams['axes.labelsize'] = 20\n",
    "mpl.rcParams['xtick.labelsize'] = 14\n",
    "mpl.rcParams['ytick.labelsize'] = 14\n",
    "from scipy.interpolate import CubicSpline\n",
    "M=8\n",
    "import scipy.linalg as spla\n",
    "from ipywidgets import interact\n",
    "import ipywidgets as widgets"
   ]
  },
  {
   "cell_type": "code",
   "execution_count": 2,
   "metadata": {},
   "outputs": [],
   "source": [
    "def normalEquations(A, b):\n",
    "    return np.linalg.solve(np.dot(A.T, A), np.dot(A.T, b))"
   ]
  },
  {
   "cell_type": "code",
   "execution_count": 3,
   "metadata": {},
   "outputs": [],
   "source": [
    "def QR(A, modified=True):\n",
    "    m, n = A.shape\n",
    "    Q = np.zeros((m,n))\n",
    "    R = np.zeros((n,n))\n",
    "    for j in range(n):\n",
    "        y = A[:,j]\n",
    "        for i in range(j):\n",
    "            R[i,j] = np.dot(Q[:,i],A[:,j])\n",
    "            y = y - R[i,j]*Q[:,i]\n",
    "        R[j,j] = np.linalg.norm(y)\n",
    "        Q[:,j] = y/R[j,j]\n",
    "    return Q,R"
   ]
  },
  {
   "cell_type": "code",
   "execution_count": 4,
   "metadata": {},
   "outputs": [],
   "source": [
    "def lstsq(A, b):\n",
    "    Q, R = QR(A)\n",
    "    x = spla.solve_triangular(R, np.dot(Q.T, b))\n",
    "    return x"
   ]
  },
  {
   "cell_type": "code",
   "execution_count": 5,
   "metadata": {},
   "outputs": [],
   "source": [
    "def spline4(x, y, solver, a1, b1):\n",
    "    n = len(x)\n",
    "    A = np.zeros((4*n-7, 3*n-3))\n",
    "    b = np.zeros(4*n-7)\n",
    "    \n",
    "    delta_x=np.diff(x)\n",
    "       \n",
    "    #Building the linear system of equations\n",
    "    \n",
    "    #1st property\n",
    "    for i in np.arange(n-1):\n",
    "        b[i]= y[i+1]-y[i]\n",
    "        A[i,3*i:3*(i+1)] = [delta_x[i],delta_x[i]**2,delta_x[i]**3]\n",
    "    #2nd property\n",
    "    for i in np.arange(n-2):\n",
    "        A[(n-1)+i,3*i:3*(i+1)+1]=[1, 2*delta_x[i], 3*delta_x[i]**2, -1]\n",
    "    #3rd property\n",
    "    for i in np.arange(n-2):\n",
    "        A[(n-1)+(n-2)+i,3*i:3*(i+1)+2] = [0, 2, 6*delta_x[i], 0, -2]\n",
    "    \n",
    "    #4rd property\n",
    "    for i in np.arange(n-2):\n",
    "        A[(n-1)+2*(n-2)+i,3*i:3*(i+1)+3] = [0, 0, 6, 0, 0,-6]\n",
    "        \n",
    "\n",
    "    k = np.ones(A.shape[0])\n",
    "\n",
    "    k[n-1:] = a1\n",
    "    k[(n-1+n-2):] = b1\n",
    "    W = np.diag(k)\n",
    "        \n",
    "    if solver == 'lstsq':\n",
    "        sol = lstsq(np.dot(W,A),np.dot(W,b))\n",
    "    elif solver == 'normal':\n",
    "        sol = normalEquations(np.dot(W,A),np.dot(W,b))\n",
    "    \n",
    "    #print(A)\n",
    "    #sol = sol[0]\n",
    "    S = {'b':sol[::3],\n",
    "         'c':sol[1::3],\n",
    "         'd':sol[2::3],\n",
    "         'x':x,\n",
    "         'y':y\n",
    "        }\n",
    "    return S, np.linalg.norm(A,ord=\"fro\")\n",
    "\n",
    "# 'der' computes the 'der'-derivative of the Spline, \n",
    "# but it has not been implemented. Can you do it? Please do it!\n",
    "def cubic_spline_eval(xx,S,der=0):\n",
    "    x=S['x']\n",
    "    y=S['y']\n",
    "    b=S['b']\n",
    "    c=S['c']\n",
    "    d=S['d']\n",
    "    n=len(x)\n",
    "    yy=np.zeros_like(xx)\n",
    "    for i in np.arange(n-1):\n",
    "        jj = np.where(np.logical_and(x[i]<=xx,xx<=x[i+1]))\n",
    "        yy[jj]=y[i]+b[i]*(xx[jj]-x[i])+c[i]*(xx[jj]-x[i])**2+d[i]*(xx[jj]-x[i])**3\n",
    "    return yy"
   ]
  },
  {
   "cell_type": "code",
   "execution_count": 6,
   "metadata": {},
   "outputs": [
    {
     "data": {
      "application/vnd.jupyter.widget-view+json": {
       "model_id": "64503b62e22445d6bead50edf2c23486",
       "version_major": 2,
       "version_minor": 0
      },
      "text/plain": [
       "interactive(children=(Dropdown(description='x', options=(5, 10, 15, 20), value=5), Dropdown(description='s', o…"
      ]
     },
     "metadata": {},
     "output_type": "display_data"
    },
    {
     "data": {
      "text/plain": [
       "<function __main__.plot(x, s, solver, a1)>"
      ]
     },
     "execution_count": 6,
     "metadata": {},
     "output_type": "execute_result"
    }
   ],
   "source": [
    "def plot(x,s,solver,a1):\n",
    "    x = np.linspace(0,2*np.pi,x)\n",
    "    y = [np.sin(x), np.cos(x)][s]\n",
    "    xx=np.linspace(np.min(x),np.max(x),1000)\n",
    "    S,F = spline4(x,y,solver,0.1,a1)\n",
    "    plt.figure(figsize=(M,M))\n",
    "    plt.plot(xx,cubic_spline_eval(xx,S),'.',linewidth=5,label=r'S$(x)$')\n",
    "    plt.plot(x,y,'k.',markersize=5,label='Data Points')\n",
    "    plt.xlabel('$x$')\n",
    "    plt.ylabel('$y$')\n",
    "    plt.legend(loc='center left', bbox_to_anchor=(1, 0.5))\n",
    "    plt.grid(True)\n",
    "    plt.show()\n",
    "    print(\"Error:\", np.max(np.abs(cubic_spline_eval(xx,S) - [np.sin(xx), np.cos(xx)][s])))\n",
    "    \n",
    "interact(plot, x=[5,10,15,20], s=[0,1],solver = ['lstsq','normal'],a1=[0.1,0.3,0.5,0.8,1])"
   ]
  },
  {
   "cell_type": "code",
   "execution_count": null,
   "metadata": {},
   "outputs": [],
   "source": []
  }
 ],
 "metadata": {
  "kernelspec": {
   "display_name": "Python 3",
   "language": "python",
   "name": "python3"
  },
  "language_info": {
   "codemirror_mode": {
    "name": "ipython",
    "version": 3
   },
   "file_extension": ".py",
   "mimetype": "text/x-python",
   "name": "python",
   "nbconvert_exporter": "python",
   "pygments_lexer": "ipython3",
   "version": "3.7.7"
  }
 },
 "nbformat": 4,
 "nbformat_minor": 4
}
