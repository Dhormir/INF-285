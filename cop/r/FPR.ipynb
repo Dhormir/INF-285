{
 "cells": [
  {
   "cell_type": "markdown",
   "metadata": {},
   "source": [
    "<center>\n",
    "    <img src=\"http://sct.inf.utfsm.cl/wp-content/uploads/2020/04/logo_di.png\" style=\"width:60%\">\n",
    "    <h1> INF285/ILI285 Computación Científica </h1>\n",
    "    <h1> COP-R</h1>\n",
    "    <h1> Representación Punto Flotante</h1>\n",
    "</center>"
   ]
  },
  {
   "cell_type": "code",
   "execution_count": 1,
   "metadata": {},
   "outputs": [],
   "source": [
    "import numpy as np\n",
    "import bitstring as bs"
   ]
  },
  {
   "cell_type": "markdown",
   "metadata": {},
   "source": [
    "La nueva compañía de buses \"Viajes Distanciados\" ha armado una flota de buses donde en su interior tienen sensores que permiten monitorear a sus pasajeros para fiscalizar que siguen las normas de seguridad recomendadas por la OMS. Las mediciones de estos sensores se resumen en un único coeficiente y estos son desplegados en un tablero como el siguiente:\n",
    "\n",
    "|          |    B1   |    B2    |     B3    |     B4    |    B5    |\n",
    "|:--------:|:-------:|:--------:|:---------:|:---------:|:--------:|\n",
    "| Sensor 1 |   $25$  |  $-300$  |   $1050$  |  $-1400$  |   $630$  |\n",
    "| Sensor 2 |  $-300$ |  $4800$  |  $-18900$ |  $26880$  | $-12600$ |\n",
    "| Sensor 3 |  $1050$ | $-18900$ |  $79380$  | $-117600$ |  $56700$ |\n",
    "| Sensor 4 | $-1400$ |  $26880$ | $-117600$ |  $179200$ | $-88200$ |\n",
    "| Sensor 5 |  $630$  | $-12600$ |  $56700$  |  $-88200$ |  $44100$ |\n",
    "\n",
    "donde  B1 a B5 son los id de los buses.\n",
    "\n",
    "Se le pide desarrollar una representación punto flotante que permita almacenar el menor y mayor número mostrado en la tabla anterior y además se debe cumplir con las siguientes restricciones:\n",
    "\n",
    "La primera restricción consiste en poder almacenar la solución $\\mathbf{x}$ del sistema de ecuaciones lineales $A\\,\\mathbf{x} = \\mathbf{1}$ obtenida usando doble precisión, siendo $A$ los valores del tablero y $\\mathbf{1}$ el vector de $1$s, tal que al obtener la norma $2$ del residuo se obtenga un valor menor a $1$. Por ejemplo, supongámonos que tenemos la siguiente tabla:\n",
    "\n",
    "|          |      B1      |      B2      |\n",
    "|:--------:|:------------:|:------------:|\n",
    "| Sensor 1 | $0.12339028$ |  $0.0559545$ |\n",
    "| Sensor 2 | $0.05606236$ | $0.13714786$ |\n",
    " \n",
    "\n",
    "Resolviendo el sistema $$A\\,\\mathbf{x} = \\mathbf{1}$$ obtenemos que la solución es el vector $\\mathbf{x} = [5.88964611, 4.88387183]$. Si suponemos que la representación utiliza dos bits de mantisa entonces el vector $\\mathbf{x}$ almacenado sería igual a $[5,4]$ debido a que $1.01 \\times 2^2 = (1 \\times 2^2) + (0 \\times 2^1) + (1 \\times 2^0) = 5$ y $1.00 \\times 2^2 = (1 \\times 2^2) + (0 \\times 2^1) + (0 \\times 2^0) = 4.$ Si calculamos la norma del residuo en doble precisión obtendremos el valor $0.23$, como dio menor a $1$ entonces utilizar dos bits de mantisa cumpliría con lo que se busca.\n",
    "\n",
    "La segunda restricción consiste en utilizar la menor cantidad posible de bits para el exponente, mantisa y signo. Incluso ocupando menos bits totales que una representación IEEE single precisión.\n",
    "Una vez encontrada la representación, conteste las siguiente preguntas. (Para escribir potencias en las respuestas puedes utilizar lo siguiente: 2E-4)\n",
    "\n",
    "* [7 puntos] ¿Cuántos bits se necesitan para el signo? Para el signo es necesario un bit.\n",
    "* [7 puntos] ¿Cuántos bits se necesitan para la mantisa? Se necesitaran al menos $17$ bits en la mantisa. \n",
    "* [12 puntos] ¿Cuántos bits se necesitan para el exponente? Con $6$ bits es suficiente para poder representar esos números, ya que con $5$ el máximo tendremos números del orden de $32768$ y eso no es suficiente para $179200$.\n",
    "* [7 puntos] ¿Cual es el $e_{mach}$ de la representación? $2^{-17}$\n",
    "* [7 puntos] ¿Cuál es el menor número representable mayor que $0$? En representación subnormal"
   ]
  },
  {
   "cell_type": "code",
   "execution_count": 2,
   "metadata": {},
   "outputs": [],
   "source": [
    "def to_binary(f):\n",
    "    b = bs.pack('>d', f)\n",
    "    b = b.bin\n",
    "    #show sign + exponent + mantisa\n",
    "    return(b[0]+' '+b[1:12]+ ' '+b[12:])"
   ]
  },
  {
   "cell_type": "code",
   "execution_count": 3,
   "metadata": {},
   "outputs": [
    {
     "name": "stdout",
     "output_type": "stream",
     "text": [
      "b aproximado: [ -106.25  2145.   -9607.5  14875.   -7402.5 ]\n",
      "Norma del vector residuo: 19312.669392461\n",
      "------\n",
      "b aproximado: [  -98.125  1882.5   -8163.75  12372.5   -6063.75 ]\n",
      "Norma del vector residuo: 16126.010523084282\n",
      "------\n",
      "b aproximado: [  -31.5625   607.5    -2611.875   3946.25   -1929.375 ]\n",
      "Norma del vector residuo: 5146.587562177122\n",
      "------\n",
      "b aproximado: [  -21.71875   410.625   -1725.9375   2568.125   -1240.3125 ]\n",
      "Norma del vector residuo: 3358.8107120547984\n",
      "------\n",
      "b aproximado: [ -10.546875  217.5      -928.59375  1397.8125   -679.21875 ]\n",
      "Norma del vector residuo: 1823.4398340414582\n",
      "------\n",
      "b aproximado: [  -4.6875   107.34375 -456.09375  689.0625  -334.6875 ]\n",
      "Norma del vector residuo: 897.9933956727493\n",
      "------\n",
      "b aproximado: [  -0.52734375   27.65625    -109.1015625   162.421875    -76.2890625 ]\n",
      "Norma del vector residuo: 211.8156354440793\n",
      "------\n",
      "b aproximado: [  0.77148438   4.6875     -13.53515625  21.6015625   -8.61328125]\n",
      "Norma del vector residuo: 27.235274859743768\n",
      "------\n",
      "b aproximado: [  1.46972656  -7.3828125   36.29882812 -51.54296875  26.45507812]\n",
      "Norma del vector residuo: 68.74026493159083\n",
      "------\n",
      "b aproximado: [ 0.98144531  1.5234375  -1.640625    5.33203125 -1.23046875]\n",
      "Norma del vector residuo: 5.566751034415191\n",
      "------\n",
      "b aproximado: [ 0.90820312  2.6953125  -6.25488281 11.89453125 -4.30664062]\n",
      "Norma del vector residuo: 14.2255784290886\n",
      "------\n",
      "b aproximado: [ 0.90820312  2.6953125  -6.25488281 11.89453125 -4.30664062]\n",
      "Norma del vector residuo: 14.2255784290886\n",
      "------\n",
      "b aproximado: [ 0.9753418   1.50512695 -1.28173828  4.54589844 -0.76904297]\n",
      "Norma del vector residuo: 4.600543403145454\n",
      "------\n",
      "b aproximado: [ 0.97579956  1.45935059 -0.99334717  4.02038574 -0.48065186]\n",
      "Norma del vector residuo: 3.9370142878623735\n",
      "------\n",
      "b aproximado: [0.99205017 1.14807129 0.36209106 1.9631958  0.52871704]\n",
      "Norma del vector residuo: 1.256491104047149\n",
      "------\n",
      "b aproximado: [0.99445343 1.1000061  0.5783844  1.6267395  0.69694519]\n",
      "Norma del vector residuo: 0.8200221464977535\n",
      "------\n",
      "17\n"
     ]
    }
   ],
   "source": [
    "## Mantisa\n",
    "\n",
    "A = np.array([[25, -300, 1050, -1400, 630],\n",
    "             [-300, 4800, -18900, 26880,-12600],\n",
    "             [1050, -18900, 79380, -117600, 56700],\n",
    "             [-1400, 26880, -117600, 179200, -88200],\n",
    "             [630, - 12600, 56700, -88200, 44100]])\n",
    "b = np.ones(A.shape[0])\n",
    "\n",
    "a = np.linalg.solve(A,b)\n",
    "for i in range(2,30):\n",
    "    vector_nuevo = []\n",
    "    for ff in a:\n",
    "        t = list(to_binary(ff).split(\" \")[2])\n",
    "        resultado2 = 0\n",
    "        count2 = 10\n",
    "        for rr in list(to_binary(ff).split(\" \")[1]):\n",
    "            resultado2 += int(rr)*2**count2\n",
    "            count2-=1\n",
    "        resultado2 -= 1023\n",
    "        k = i\n",
    "        count = -1\n",
    "        resultado = 1*2**resultado2\n",
    "        for h in t[:k]:\n",
    "            resultado += (int(h)*2**count)*2**resultado2\n",
    "            count-=1\n",
    "\n",
    "        vector_nuevo.append(resultado)\n",
    "\n",
    "    print(\"b aproximado:\", np.dot(A,np.array(vector_nuevo)))\n",
    "    print(\"Norma del vector residuo:\", np.linalg.norm(b-np.dot(A,np.array(vector_nuevo))))\n",
    "    print(\"------\")\n",
    "    if np.linalg.norm(b-np.dot(A,np.array(vector_nuevo))) < 1:\n",
    "              break\n",
    "print(i)"
   ]
  },
  {
   "cell_type": "code",
   "execution_count": 4,
   "metadata": {},
   "outputs": [
    {
     "name": "stdout",
     "output_type": "stream",
     "text": [
      "Intervalo -30 31\n",
      "2147483648\n"
     ]
    }
   ],
   "source": [
    "## Exponente\n",
    "n = 6\n",
    "a = ''\n",
    "for k in range(0,n):\n",
    "    a+='1'\n",
    "r = int(a,2) \n",
    "shift = 2**(n-1) - 1\n",
    "print(\"Intervalo\",1-shift, r-1-shift)\n",
    "print(2**(r-1-shift))"
   ]
  }
 ],
 "metadata": {
  "kernelspec": {
   "display_name": "Python 3",
   "language": "python",
   "name": "python3"
  },
  "language_info": {
   "codemirror_mode": {
    "name": "ipython",
    "version": 3
   },
   "file_extension": ".py",
   "mimetype": "text/x-python",
   "name": "python",
   "nbconvert_exporter": "python",
   "pygments_lexer": "ipython3",
   "version": "3.7.7"
  }
 },
 "nbformat": 4,
 "nbformat_minor": 4
}
