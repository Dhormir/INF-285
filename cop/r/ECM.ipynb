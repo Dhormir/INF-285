{
 "cells": [
  {
   "cell_type": "markdown",
   "metadata": {},
   "source": [
    "<center>\n",
    "    <img src=\"http://sct.inf.utfsm.cl/wp-content/uploads/2020/04/logo_di.png\" style=\"width:60%\">\n",
    "    <h1> INF285/ILI285 Computación Científica </h1>\n",
    "    <h1> COP-R</h1>\n",
    "    <h1> Ecuación Cuadrática Matricial</h1>\n",
    "</center>"
   ]
  },
  {
   "cell_type": "markdown",
   "metadata": {},
   "source": [
    "# Librerías"
   ]
  },
  {
   "cell_type": "code",
   "execution_count": 1,
   "metadata": {},
   "outputs": [],
   "source": [
    "import numpy as np\n",
    "import scipy.sparse.linalg as spla"
   ]
  },
  {
   "cell_type": "markdown",
   "metadata": {},
   "source": [
    "# Pregunta"
   ]
  },
  {
   "cell_type": "markdown",
   "metadata": {},
   "source": [
    "La tradicional ecuación cuadrática $\\lambda\\,x^2+\\theta\\,x+\\gamma=0$ se estudió profundamente al comienzo del curso en el tema de errores de cancelación, esta ecuación se obtiene haciendo una manipulación algebraica conveniente, particularmente la solución es la siguiente:\n",
    "\n",
    "\\begin{equation}\n",
    "x_{\\pm}=\\dfrac{-\\theta\\pm\\sqrt{\\theta^2-4\\,\\lambda\\,\\gamma}}{2\\,\\lambda}\n",
    "\\end{equation}\n",
    "\n",
    "Uno podría extender la ecuación cuadrática de la siguiente forma:\n",
    "\n",
    "\\begin{equation}\n",
    "\\Lambda\\,X^2+\\Theta\\,X+\\Gamma=\\underline{0}\n",
    "\\end{equation}\n",
    "\n",
    "donde $\\Lambda, \\Theta, \\Gamma$ y $X \\in \\mathbb{R}^{n\\times n}$, $\\underline{0}$ corresponde a la matriz nula de $n \\times n$ y $X^2=X\\,X$. Una posible simplificación puede ser:\n",
    "\n",
    "\\begin{equation}\n",
    "X^2+\\Lambda^{-1}\\,\\Theta\\,X+\\Lambda^{-1}\\,\\Gamma=\\underline{0}\n",
    "\\end{equation}\n",
    "\n",
    "Este caso en general es un poco más complejo de lo esperado, por lo cual estudiaremos la siguiente ecuación:\n",
    "\n",
    "\\begin{equation}\n",
    "(X+B)^2=C+CX+X^2+D\n",
    "\\end{equation}\n",
    "\n",
    "Los archivos de datos se obtienen desde el siguiente link: https://github.com/sct-utfsm/INF-285/tree/master/cop-r/data/  \n",
    "\n",
    "1. Considerando en este caso que $B=D=\\underline{0}$ y $C=$C1.npy, obtenga la norma infinito de $X$, es decir $\\|X\\|_\\infty$.\n",
    "2. Considerando en este caso que $C=\\underline{0}$, $B=$B2.npy y $D=B^2$, obtenga la norma infinito de $X$, es decir $\\|X\\|_\\infty$.\n",
    "3. Considerando en este caso que $B=$B3.npy, $C=$C3.npy y $D=\\underline{0}$, obtenga la norma infinito de $X$, es decir $\\|X\\|_\\infty$.\n",
    " "
   ]
  },
  {
   "cell_type": "markdown",
   "metadata": {},
   "source": [
    "# Desarrollo"
   ]
  },
  {
   "cell_type": "code",
   "execution_count": 2,
   "metadata": {},
   "outputs": [],
   "source": [
    "# Loading data\n",
    "C1 = np.load('data/C1.npy')\n",
    "B2 = np.load('data/B2.npy')\n",
    "B3 = np.load('data/B3.npy')\n",
    "C3 = np.load('data/C3.npy')\n",
    "n = C1.shape[0]"
   ]
  },
  {
   "cell_type": "code",
   "execution_count": 3,
   "metadata": {},
   "outputs": [
    {
     "name": "stdout",
     "output_type": "stream",
     "text": [
      "1.0\n",
      "0.0\n",
      "29.40492924190162\n"
     ]
    }
   ],
   "source": [
    "# 1. (X+B)^2=C+C X+X^2 + D\n",
    "#    X^2 = C+C X+X^2\n",
    "#    0 = C+C X\n",
    "#    -C = C X\n",
    "#    -C^{-1}C=X\n",
    "#    -I=X\n",
    "X = -np.eye(n)\n",
    "print(np.linalg.norm(X,np.inf))\n",
    "\n",
    "# 2. (X+B)^2=C+C X+X^2 + D\n",
    "#    (X+B)^2=X^2 + B^2\n",
    "#    X^2 + B X + X B + B^2 = X^2 + B^2\n",
    "#    B X + X B = 0\n",
    "X = np.zeros((n,n))\n",
    "print(np.linalg.norm(X,np.inf))\n",
    "\n",
    "# 3. (X+B)^2=C+C X+X^2 + D\n",
    "#    (X+B)^2=C+C X+X^2\n",
    "#    X^2+B X +X B + B^2=C+C X+X^2\n",
    "#    B X +X B + B^2=C+C X\n",
    "#    (B - C) X +X B = C - B^2\n",
    "def compute_matrix_vector_product(x,B,C,n):\n",
    "    X = np.reshape(x,(n,n))\n",
    "    out = np.dot(B-C,X)+np.dot(X,B)\n",
    "    return out.flatten()\n",
    "afun = spla.LinearOperator((n**2, n**2), matvec = lambda x: compute_matrix_vector_product(x,B3,C3,n))\n",
    "x, exitCode = spla.gmres(afun, (C3-np.dot(B3,B3)).flatten(), tol=1e-10)\n",
    "X_GMRes = np.reshape(x,(n,n))\n",
    "print(np.linalg.norm(X_GMRes,np.inf))"
   ]
  }
 ],
 "metadata": {
  "kernelspec": {
   "display_name": "Python 3",
   "language": "python",
   "name": "python3"
  },
  "language_info": {
   "codemirror_mode": {
    "name": "ipython",
    "version": 3
   },
   "file_extension": ".py",
   "mimetype": "text/x-python",
   "name": "python",
   "nbconvert_exporter": "python",
   "pygments_lexer": "ipython3",
   "version": "3.7.7"
  }
 },
 "nbformat": 4,
 "nbformat_minor": 4
}
