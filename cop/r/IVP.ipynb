{
 "cells": [
  {
   "cell_type": "markdown",
   "metadata": {},
   "source": [
    "<img src=\"http://sct.inf.utfsm.cl/wp-content/uploads/2020/04/logo_di.png\" style=\"width:60%\">\n",
    "\n",
    "<center>\n",
    "    <h1>ILI285/INF285 Computación Científica </h1>\n",
    "    <h1>COP-R</h1>\n",
    "    <h1>Initial Value Problem</h1>\n",
    "</center>"
   ]
  },
  {
   "cell_type": "markdown",
   "metadata": {},
   "source": [
    "Necesitamos encontrar una aproximación numérica de la siguiente Ecuación Diferencial Ordinaria de segundo orden para $t\\in[0,T]$:\n",
    "\n",
    "\\begin{equation}\n",
    "\\begin{split}\n",
    "y''(t) + y(t) &= 0,\\\\\n",
    "y(0)=1,\\; y'(0) &=0\n",
    "\\end{split}\n",
    "\\end{equation}\n",
    "\n",
    "Antes de aplicar un método numérico, utilizaremos el siguiente cambio de variables:\n",
    "\\begin{align}\n",
    "u &= y & \\implies \\quad u' &= y' =v\\\\\n",
    "v &= y'& \\implies \\quad v' &= y''=-y=-u\n",
    "\\end{align}\n",
    "\n",
    "para así generar $\\mathbf{G}(t,\\mathbf{u})=(v, -u)$, con $\\mathbf{u}=(u,v)$. Por simplicidad se omite la variable temporal, pero tanto $u$ como $v$ dependen de $t$. Ahora, nuestro problema se puede reescribir de la siguiente manera:\n",
    "\n",
    "\\begin{equation}\n",
    "\\dot{\\mathbf{u}} = \n",
    "\\begin{bmatrix}\n",
    "\\dfrac{du}{dt} \\\\ \\dfrac{dv}{dt} \n",
    "\\end{bmatrix} = \n",
    "\\begin{bmatrix}\n",
    "v \\\\ -u\n",
    "\\end{bmatrix} =\n",
    "\\mathbf{G}(t,\\mathbf{u}).\\tag{1}\n",
    "\\end{equation}\n",
    "\n",
    "El problema $(1)$ puede ser resuelto numéricamente utilizando la regla del trapecio. Este método debe resolver la siguiente ecuación en cada iteración para $\\mathbf{u}_{n+1}$:\n",
    "\n",
    "\\begin{equation}\n",
    "\\begin{split}\n",
    "t_{n+1} &= t_{n} + h \\\\\n",
    "\\mathbf{u}_{n+1} &= \\mathbf{u}_n + \\frac{h}{2} \n",
    "\\left(\\mathbf{G}(t_n, \\mathbf{u}_{n}) + \\mathbf{G}(t_{n+1},\\mathbf{u}_{n+1})\\right)\n",
    "\\end{split}\n",
    "\\end{equation}\n",
    "\n",
    "donde $t_n = t_0 + h\\,n$, con $n=0, 1, \\dots, N$, $h=(t_N - t_0)/N$ y $[t_0=0,t_N=T]$ corresponden a una discretización de la variable temporal. Esta aproximación de la ecuación diferencial ordinaria $(1)$ tiene asociado un error numérico de orden $O(h^2)$, lo que es bastante bueno. En rigor, solo es necesario resolver la segunda ecuación en cada iteración es decir:\n",
    "\n",
    "\\begin{equation}\n",
    "\\mathbf{u}_{n+1} - \\mathbf{u}_n - \\frac{h}{2} \n",
    "\\left(\\mathbf{G}(t_n, \\mathbf{u}_{n}) + \\mathbf{G}(t_{n+1},\\mathbf{u}_{n+1})\\right) = \\mathbf{0},\n",
    "\\end{equation}\n",
    "\n",
    "donde $\\mathbf{u}_{n+1}$ es nuestro vector de incógnitas $(u_{n+1}, v_{n+1})$ y $\\mathbf{u}_{n}=(u_n,v_n)$ son valores conocidos en la interación $n$. Otra forma de ver el problema es la siguiente:\n",
    "\n",
    "\\begin{equation}\n",
    "\\mathbf{F}(\\mathbf{u}_{n+1}, \\mathbf{u}_n) = \\mathbf{0},\n",
    "\\end{equation}\n",
    "\n",
    "la cual debe resolverse para cada iteración $n$, es decir, dado $\\mathbf{u}_n$ debemos obtener $\\mathbf{u}_{n+1}$.\n",
    "\n",
    "**Consideración**: Este tipo de sistema dinámico se denomina autónomo porque si bien $u$ y $v$ dependen de $t$, no hay un efecto directo de $t$ en la función definida como $\\mathbf{G}(t, \\mathbf{u})$ por lo que se puede omitir y solo considerar $\\mathbf{G}(\\mathbf{u})$.\n",
    "\n",
    "**Preguntas**\n",
    "1. Obtenga $\\|\\mathbf{G}(\\mathbf{u}_0)\\|_2$, donde $\\mathbf{u}_0=(u_0,v_0)=(y(0), y'(0))$\n",
    "2. Obtenga $v_1$, considerando $t_0=0$, $t_N=2\\pi$ y $N=50$, $\\mathbf{u}_0=(u_0,v_0)=(y(0), y'(0))$.\n",
    "3. Obtenga $u_{30}$, considerando $t_0=0$, $t_N=2\\pi$ y $N=50$, $\\mathbf{u}_0=(u_0,v_0)=(y(0), y'(0))$. "
   ]
  },
  {
   "cell_type": "markdown",
   "metadata": {},
   "source": [
    "## Resolución"
   ]
  },
  {
   "cell_type": "code",
   "execution_count": 1,
   "metadata": {},
   "outputs": [],
   "source": [
    "import numpy as np\n",
    "import matplotlib.pyplot as plt"
   ]
  },
  {
   "cell_type": "markdown",
   "metadata": {},
   "source": [
    "### Definición de $\\mathbf{G}(\\mathbf{u})=(v, -u)$"
   ]
  },
  {
   "cell_type": "code",
   "execution_count": 2,
   "metadata": {},
   "outputs": [],
   "source": [
    "def G(u):\n",
    "    return np.array([u[1], -u[0]])"
   ]
  },
  {
   "cell_type": "markdown",
   "metadata": {},
   "source": [
    "### Definición de $\\mathbf{F}(\\mathbf{u}_{n+1}, \\mathbf{u}_n)$\n",
    "\n",
    "\\begin{equation}\n",
    "    \\begin{split}\n",
    "        \\mathbf{F}(\\mathbf{u}_{n+1}, \\mathbf{u}_n) & = \\mathbf{u}_{n+1} - \\mathbf{u}_n - \\frac{h}{2} \n",
    "            \\left(\\mathbf{G}(t_n, \\mathbf{u}_{n}) + \\mathbf{G}(t_{n+1},\\mathbf{u}_{n+1})\\right) \\\\\n",
    "            &= \n",
    "            \\begin{bmatrix}\n",
    "                u_{n+1} - u_{n} - 0.5\\,h\\,(v_n + v_{n+1})  \\\\ \n",
    "                v_{n+1} - v_{n} + 0.5\\,h\\,(u_n + u_{n+1})\n",
    "            \\end{bmatrix}\\\\\n",
    "            &= \n",
    "            \\begin{bmatrix}\n",
    "                1 & -0.5\\, h \\\\ \n",
    "                0.5\\, h & 1\n",
    "            \\end{bmatrix}\n",
    "            \\begin{bmatrix}\n",
    "                u_{n+1} \\\\ v_{n+1}\n",
    "            \\end{bmatrix} -\n",
    "            \\begin{bmatrix}\n",
    "                u_{n} + 0.5\\,h v_{n} \\\\\n",
    "                v_{n} - 0.5\\,h u_{n} \\\\\n",
    "            \\end{bmatrix}\n",
    "    \\end{split}\n",
    "\\end{equation}\n",
    "\n",
    "Como $\\mathbf{F}(\\mathbf{u}_{n+1}, \\mathbf{u}_n)=\\mathbf{0}$, esto no es más que un sistema de ecuaciones lineales\n",
    "\n",
    "\\begin{equation}\n",
    "    \\begin{split}\n",
    "        \\begin{bmatrix}\n",
    "            1 & -0.5\\, h \\\\ \n",
    "            0.5\\, h & 1\n",
    "        \\end{bmatrix}\n",
    "        \\begin{bmatrix}\n",
    "            u_{n+1} \\\\ v_{n+1}\n",
    "        \\end{bmatrix} &=\n",
    "        \\begin{bmatrix}\n",
    "            u_{n} + 0.5\\,h v_{n} \\\\\n",
    "            v_{n} - 0.5\\,h u_{n} \\\\\n",
    "        \\end{bmatrix} \\\\\n",
    "        A\\,\\mathbf{x} &=\\mathbf{b}\n",
    "    \\end{split}\n",
    "\\end{equation}"
   ]
  },
  {
   "cell_type": "markdown",
   "metadata": {},
   "source": [
    "### Regla del Trapecio\n",
    "\n",
    "Implementación de la **regla del trapecio**. Considerar que $A$ es fijo y solo depende de $h$. Además, \n",
    "$\\mathbf{b}$ se debe actualizar en cada iteración ya que depende de los valores de $\\mathbf{u}_n$ y $\\mathbf{G}(\\mathbf{u}_n)$."
   ]
  },
  {
   "cell_type": "code",
   "execution_count": 3,
   "metadata": {},
   "outputs": [],
   "source": [
    "def solveIVP(G, t, u0):\n",
    "    N = t.shape[0]\n",
    "    U = np.zeros((N, 2))\n",
    "    U[0] = u0\n",
    "    h = t[1] - t[0]\n",
    "    A = np.array([[1, -0.5 * h], [0.5 * h, 1]])\n",
    "    for n in range(N - 1):\n",
    "        b = U[n] + 0.5 * h * G(U[n])\n",
    "        U[n+1] = np.linalg.solve(A, b)\n",
    "    return U"
   ]
  },
  {
   "cell_type": "markdown",
   "metadata": {},
   "source": [
    "### Solución analítica"
   ]
  },
  {
   "cell_type": "code",
   "execution_count": 4,
   "metadata": {},
   "outputs": [],
   "source": [
    "y = lambda t: np.cos(t)"
   ]
  },
  {
   "cell_type": "markdown",
   "metadata": {},
   "source": [
    "### Solución Numérica"
   ]
  },
  {
   "cell_type": "code",
   "execution_count": 5,
   "metadata": {},
   "outputs": [],
   "source": [
    "N = 50\n",
    "t_0, t_N = 0, 2 * np.pi\n",
    "t = np.linspace(t_0, t_N, N + 1)\n",
    "u0 = np.array([1, 0])"
   ]
  },
  {
   "cell_type": "code",
   "execution_count": 6,
   "metadata": {},
   "outputs": [],
   "source": [
    "U = solveIVP(G, t, u0)"
   ]
  },
  {
   "cell_type": "code",
   "execution_count": 7,
   "metadata": {},
   "outputs": [
    {
     "data": {
      "image/png": "[encoded data removed]",
      "text/plain": [
       "<Figure size 432x288 with 1 Axes>"
      ]
     },
     "metadata": {
      "needs_background": "light"
     },
     "output_type": "display_data"
    }
   ],
   "source": [
    "plt.plot(t, y(t), 'b-', label=r\"$y(t)$\")\n",
    "plt.plot(t, U[:,0], 'r--', label=r\"$u(t)$\")\n",
    "plt.plot(t, U[:,1], 'g-.', label=r\"$v(t)$\")\n",
    "plt.xlabel(r'$x$')\n",
    "plt.ylabel(r'$y$')\n",
    "plt.grid(True)\n",
    "plt.legend()\n",
    "plt.show()"
   ]
  },
  {
   "cell_type": "markdown",
   "metadata": {},
   "source": [
    "### Preguntas"
   ]
  },
  {
   "cell_type": "markdown",
   "metadata": {},
   "source": [
    "1. Obtenga $\\|\\mathbf{G}(\\mathbf{u}_0)\\|_2$, donde $\\mathbf{u}_0=(u_0,v_0)=(y(0), y'(0))$."
   ]
  },
  {
   "cell_type": "code",
   "execution_count": 8,
   "metadata": {},
   "outputs": [
    {
     "name": "stdout",
     "output_type": "stream",
     "text": [
      "1.0\n"
     ]
    }
   ],
   "source": [
    "print(np.linalg.norm(G(u0)))"
   ]
  },
  {
   "cell_type": "markdown",
   "metadata": {},
   "source": [
    "2. Obtenga $v_1$, considerando $t_0=0$, $t_N=2\\pi$ y $N=50$, $\\mathbf{u}_0=(u_0,v_0)=(y(0), y'(0))$. "
   ]
  },
  {
   "cell_type": "code",
   "execution_count": 9,
   "metadata": {},
   "outputs": [
    {
     "name": "stdout",
     "output_type": "stream",
     "text": [
      "-0.1251695565411434\n"
     ]
    }
   ],
   "source": [
    "print(U[1, 1])"
   ]
  },
  {
   "cell_type": "markdown",
   "metadata": {},
   "source": [
    "3. Obtenga $u_{30}$, considerando $t_0=0$, $t_N=2\\pi$ y $N=50$, $\\mathbf{u}_0=(u_0,v_0)=(y(0), y'(0))$. "
   ]
  },
  {
   "cell_type": "code",
   "execution_count": 10,
   "metadata": {},
   "outputs": [
    {
     "name": "stdout",
     "output_type": "stream",
     "text": [
      "-0.8119161913150047\n"
     ]
    }
   ],
   "source": [
    "print(U[30, 0])"
   ]
  }
 ],
 "metadata": {
  "kernelspec": {
   "display_name": "Python 3.7.7 64-bit ('cc': conda)",
   "language": "python",
   "name": "python37764bitcccondaf9be1bff0edc45b89bc5baae44dcd3f4"
  },
  "language_info": {
   "codemirror_mode": {
    "name": "ipython",
    "version": 3
   },
   "file_extension": ".py",
   "mimetype": "text/x-python",
   "name": "python",
   "nbconvert_exporter": "python",
   "pygments_lexer": "ipython3",
   "version": "3.7.7"
  }
 },
 "nbformat": 4,
 "nbformat_minor": 4
}
