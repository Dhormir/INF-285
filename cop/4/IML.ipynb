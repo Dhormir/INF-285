{
 "cells": [
  {
   "cell_type": "markdown",
   "metadata": {},
   "source": [
    "<center>\n",
    "    <img src=\"http://sct.inf.utfsm.cl/wp-content/uploads/2020/04/logo_di.png\" style=\"width:60%\">\n",
    "    <h1> INF285/ILI285 Computación Científica </h1>\n",
    "    <h1> COP-4</h1>\n",
    "    <h1> IML: Interpolación Matricial de Lagrange</h1>\n",
    "</center>"
   ]
  },
  {
   "cell_type": "markdown",
   "metadata": {},
   "source": [
    "# Librerías"
   ]
  },
  {
   "cell_type": "code",
   "execution_count": 1,
   "metadata": {},
   "outputs": [],
   "source": [
    "import numpy as np\n",
    "from scipy.linalg import solve_triangular\n",
    "dec = lambda num , d: int((num%1)*(10**d)-((num%1)*(10**d))%1)\n",
    "from ipywidgets import interact"
   ]
  },
  {
   "cell_type": "markdown",
   "metadata": {},
   "source": [
    "# Pregunta"
   ]
  },
  {
   "cell_type": "markdown",
   "metadata": {},
   "source": [
    "Considere el siguiente conjunto de pares de matrices en $\\mathbb{R}^{n\\times n}$: $\\{(X_1,Y_1),(X_2,Y_2)\\}$, y el siguiente algoritmo del tipo Interpolación de Lagrange, ahora en $\\mathbb{R}^{n\\times n}$, es decir $P(X):\\mathbb{R}^{n\\times n}\\rightarrow \\mathbb{R}^{n\\times n}$:\n",
    "\n",
    "$$P(X)=Y_1\\,(X-X_2)\\,(X_1-X_2)^{-1}+Y_2\\,(X-X_1)\\,(X_2-X_1)^{-1}$$\n",
    "\n",
    "Advertencia: No está permitido el uso de la matriz inversa, es decir, cuando aparezca la inversa de una matriz usted debe buscar la forma de modificar el problema y convertirlo a un sistema de ecuaciones lineales.\n",
    "\n",
    "La data ($X_1, Y_1, X_2, Y_2, \\widetilde{Y}$) que le corresponde utilizar está en el repositorio https://github.com/sct-utfsm/INF-285/tree/master/cop/4/data/IML/ con los archivos $X_1=$X1-{SEED}.npy, $Y_1=$Y1-{SEED}.npy, $X_2=$X2-{SEED}.npy, $Y_2=$Y2-{SEED}.npy y $\\widetilde{Y}=$Yt-{SEED}.npy, respectivamente.\n",
    "\n",
    "Preguntas:\n",
    "\n",
    "1. Obtenga el valor de la norma matricial de Frobenious de la matriz $W_1$ de la siguiente ecuación matricial: $X_1\\,W_1=Y_1$. Entregue en la casilla los primeros 5 decimales, si el número es $45.173926$ usted debe ingresar $17392$.\n",
    "\n",
    "2. Obtenga el valor de la norma matricial de Frobenious de la matriz $W_2$ de la siguiente ecuación matricial: $W_2\\,X_2=Y_2$. Entregue en la casilla los primeros 5 decimales. Hint 1: Just recall that when applying the transpose operator to $A\\,B=C$ we obtain $B^T\\,A^T=C^T$.\n",
    "\n",
    "3. Implemente la evaluación del polinomio matricial y obtenga el valor de la norma matricial de Frobenious $P(\\underline{0})$, donde $\\underline{0}$ es la matriz nula (i.e. la matriz de 0 de dimensión $n\\,\\times\\,n$). Usted debe entregar el valor de la norma matricial de Frobenious $\\|P(\\underline{0})\\|_F$. Entregue en la casilla los primeros 5 decimales.\n",
    "\n",
    "4. Obtenga el valor de la norma matricial de Frobenious de la matriz $X$ de la siguiente ecuación matricial $\\widetilde{Y}=P(X)$. Entregue en la casilla los primeros 5 decimales.\n"
   ]
  },
  {
   "cell_type": "markdown",
   "metadata": {},
   "source": [
    "# Desarrollo"
   ]
  },
  {
   "cell_type": "code",
   "execution_count": 2,
   "metadata": {},
   "outputs": [],
   "source": [
    "def show_answer(SEED):\n",
    "    # Loading data\n",
    "    X1=np.load('data/IML/X1-'+str(SEED)+'.npy')\n",
    "    Y1=np.load('data/IML/Y1-'+str(SEED)+'.npy')\n",
    "    X2=np.load('data/IML/X2-'+str(SEED)+'.npy')\n",
    "    Y2=np.load('data/IML/Y2-'+str(SEED)+'.npy')\n",
    "    Yt=np.load('data/IML/Yt-'+str(SEED)+'.npy')\n",
    "    \n",
    "    # 1.- X1*W1=Y1\n",
    "    W1=solve_triangular(X1,Y1)\n",
    "    q1=np.linalg.norm(W1,'fro')\n",
    "    print('Answer 1: ',dec(q1,5))\n",
    "\n",
    "    # 2.- W2*X2=Y2, X2.T*W2.T=Y2.T\n",
    "    W2=solve_triangular(X2.T,Y2.T, lower=True).T\n",
    "    q2=np.linalg.norm(W2,'fro')\n",
    "    print('Answer 2: ',dec(q2,5))\n",
    "\n",
    "    # 3.- P_{y01}(X) = Y_1\\,(X-X_2)\\,(X_1-X_2)^{-1}+Y_2\\,(X-X_1)\\,(X_2-X_1)^{-1}\n",
    "    #       P_{y01}(0) = -Y_1 X_2,(X_1-X_2)^{-1} - Y_2 X_1 (X_2-X_1)^{-1}\n",
    "    #       P_{y01}(0) = (-Y_1 X_2 + Y_2 X_1) (X_1-X_2)^{-1}\n",
    "    #       W (X_1-X_2) = (-Y_1 X_2 + Y_2 X_1)\n",
    "    #       (X_1-X_2).T W.T = (-Y_1 X_2 + Y_2 X_1).T\n",
    "    A = (X1-X2)\n",
    "    B = (-np.dot(Y1,X2)+np.dot(Y2,X1))\n",
    "    P = solve_triangular(A.T, B.T, lower=True).T\n",
    "    q3=np.linalg.norm(P,'fro')\n",
    "    print('Answer 3: ',dec(q3,5))\n",
    "\n",
    "    # 4.- P_{y01}(X)=Y_1\\,(X-X_2)\\,(X_1-X_2)^{-1}+Y_2\\,(X-X_1)\\,(X_2-X_1)^{-1}\n",
    "    # D = X_1-X_2\n",
    "    #       Yt = Y_1\\,(X-X_2)\\,D^{-1} - Y_2\\,(X-X_1)\\,D^{-1}\n",
    "    #       Yt D = Y_1 (X-X_2) - Y_2 (X-X_1)\n",
    "    #       Yt D = Y_1 X - Y_1 X_2 - Y_2 X + Y_2 X_1\n",
    "    #       Yt D + Y_1 X_2 - Y_2 X_1 = (Y_1 - Y_2) X\n",
    "    D = X1-X2\n",
    "    A = (Y1-Y2)\n",
    "    B = np.dot(Yt,D)+np.dot(Y1,X2)-np.dot(Y2,X1)\n",
    "    X = solve_triangular(A, B, lower=False)\n",
    "    q4=np.linalg.norm(X,'fro')\n",
    "    print('Answer 4: ',dec(q4,5))"
   ]
  },
  {
   "cell_type": "code",
   "execution_count": 3,
   "metadata": {},
   "outputs": [
    {
     "data": {
      "application/vnd.jupyter.widget-view+json": {
       "model_id": "4a3f5de7d99240f191f693089e703194",
       "version_major": 2,
       "version_minor": 0
      },
      "text/plain": [
       "interactive(children=(Dropdown(description='SEED', options=(0, 1, 3, 4, 5, 6, 7, 8), value=0), Output()), _dom…"
      ]
     },
     "metadata": {},
     "output_type": "display_data"
    },
    {
     "data": {
      "text/plain": [
       "<function __main__.show_answer(SEED)>"
      ]
     },
     "execution_count": 3,
     "metadata": {},
     "output_type": "execute_result"
    }
   ],
   "source": [
    "interact(show_answer, SEED=[0,1,3,4,5,6,7,8])"
   ]
  }
 ],
 "metadata": {
  "kernelspec": {
   "display_name": "Python 3",
   "language": "python",
   "name": "python3"
  },
  "language_info": {
   "codemirror_mode": {
    "name": "ipython",
    "version": 3
   },
   "file_extension": ".py",
   "mimetype": "text/x-python",
   "name": "python",
   "nbconvert_exporter": "python",
   "pygments_lexer": "ipython3",
   "version": "3.7.7"
  }
 },
 "nbformat": 4,
 "nbformat_minor": 4
}
